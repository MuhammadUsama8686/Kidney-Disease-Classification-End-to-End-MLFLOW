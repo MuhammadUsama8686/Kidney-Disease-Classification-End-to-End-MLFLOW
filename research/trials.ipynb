{
 "cells": [
  {
   "cell_type": "code",
   "execution_count": 1,
   "metadata": {},
   "outputs": [],
   "source": [
    "import gdown"
   ]
  },
  {
   "cell_type": "code",
   "execution_count": 2,
   "metadata": {},
   "outputs": [],
   "source": [
    "url = \"https://drive.google.com/file/d/1OvCA5axUwHdj3o-zZp_L3jkmHqRzpy2Y/view?usp=sharing\""
   ]
  },
  {
   "cell_type": "code",
   "execution_count": 6,
   "metadata": {},
   "outputs": [],
   "source": [
    "file_id = url.split('/')[-2]"
   ]
  },
  {
   "cell_type": "code",
   "execution_count": 7,
   "metadata": {},
   "outputs": [
    {
     "name": "stderr",
     "output_type": "stream",
     "text": [
      "Downloading...\n",
      "From (original): https://drive.google.com/uc?/export=download&id=1OvCA5axUwHdj3o-zZp_L3jkmHqRzpy2Y\n",
      "From (redirected): https://drive.google.com/uc?%2Fexport=download&id=1OvCA5axUwHdj3o-zZp_L3jkmHqRzpy2Y&confirm=t&uuid=de0c2699-21a9-4a5d-97e8-5ee7122d08c8\n",
      "To: e:\\MLFLOW End to End Deep Learning Project\\Kidney-Disease-Classification-End-to-End-MLFLOW\\research\\CT-KIDNEY-DATASET-Normal-Tumor\n",
      "100%|██████████| 499M/499M [01:18<00:00, 6.35MB/s] \n"
     ]
    },
    {
     "data": {
      "text/plain": [
       "'CT-KIDNEY-DATASET-Normal-Tumor'"
      ]
     },
     "execution_count": 7,
     "metadata": {},
     "output_type": "execute_result"
    }
   ],
   "source": [
    "prefix = \"https://drive.google.com/uc?/export=download&id=\"\n",
    "gdown.download(prefix+file_id, \"CT-KIDNEY-DATASET-Normal-Tumor\")"
   ]
  },
  {
   "cell_type": "code",
   "execution_count": null,
   "metadata": {},
   "outputs": [],
   "source": []
  }
 ],
 "metadata": {
  "kernelspec": {
   "display_name": "kidney",
   "language": "python",
   "name": "python3"
  },
  "language_info": {
   "codemirror_mode": {
    "name": "ipython",
    "version": 3
   },
   "file_extension": ".py",
   "mimetype": "text/x-python",
   "name": "python",
   "nbconvert_exporter": "python",
   "pygments_lexer": "ipython3",
   "version": "3.8.0"
  }
 },
 "nbformat": 4,
 "nbformat_minor": 2
}
